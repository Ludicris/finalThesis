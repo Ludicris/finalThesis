{
 "cells": [
  {
   "cell_type": "markdown",
   "metadata": {},
   "source": [
    "### Imports"
   ]
  },
  {
   "cell_type": "code",
   "execution_count": null,
   "metadata": {},
   "outputs": [],
   "source": [
    "import pandas as pd\n",
    "from collections import defaultdict\n",
    "import matplotlib.pyplot as plt\n",
    "import numpy as np \n",
    "from scipy.stats import norm\n",
    "from sklearn.manifold import MDS\n",
    "import plotly.express as px\n",
    "import torch \n",
    "import torch.nn.functional as F\n",
    "import torch.nn as nn\n",
    "import torch.optim as optim\n",
    "from torch.utils.data import DataLoader\n",
    "from sklearn.decomposition import PCA\n",
    "from sklearn.manifold import TSNE\n",
    "from torch.nn import init\n",
    "from torch.optim.lr_scheduler import StepLR"
   ]
  },
  {
   "cell_type": "markdown",
   "metadata": {},
   "source": [
    "### Code"
   ]
  },
  {
   "cell_type": "code",
   "execution_count": null,
   "metadata": {},
   "outputs": [],
   "source": [
    "df = pd.read_csv('adj-matrix-US.csv', lineterminator='\\n', low_memory=False).iloc[0:]\n",
    "adj = {}\n",
    "\n",
    "for index, row in df.iterrows():\n",
    "    key = row.iloc[0]\n",
    "    values = row.iloc[1:].tolist()\n",
    "    adj[key] = values\n",
    "    \n",
    "matrix = {}\n",
    "for column in df.columns:\n",
    "    if column != 'Unnamed: 0':\n",
    "        matrix[column] = df[column].tolist()"
   ]
  },
  {
   "cell_type": "code",
   "execution_count": null,
   "metadata": {},
   "outputs": [],
   "source": [
    "# accountNames = df.columns.str.strip('\\r')[1:]\n",
    "# encoder = OneHotEncoder()\n",
    "# accountNames = np.array(accountNames).reshape(-1,1)\n",
    "# encodedNames = encoder.fit_transform(accountNames)\n",
    "\n"
   ]
  },
  {
   "cell_type": "code",
   "execution_count": null,
   "metadata": {},
   "outputs": [],
   "source": [
    "class Dataset(torch.utils.data.Dataset):\n",
    "    def __init__(self, data):\n",
    "        self.data = data\n",
    "        self.accountList = list(data.keys())\n",
    "    \n",
    "    def __len__(self):\n",
    "        return len(self.data)\n",
    "    \n",
    "    def __getitem__(self, idx):\n",
    "        account = self.accountList[idx]\n",
    "        followers = np.array(self.data[account])\n",
    "        \n",
    "        #One Hot Encoding\n",
    "        input_account = torch.zeros(len(self.accountList)) \n",
    "        input_account[self.accountList.index(account)] = 1\n",
    "\n",
    "        return torch.tensor(input_account), torch.tensor(followers)"
   ]
  },
  {
   "cell_type": "code",
   "execution_count": null,
   "metadata": {},
   "outputs": [],
   "source": [
    "class secondOption(nn.Module):\n",
    "    def __init__(self, input_dimension, emb_dimension, hidden_dimension, output_dimension):\n",
    "        super(secondOption,  self).__init__()\n",
    "        \n",
    "        self.input_dimension = input_dimension\n",
    "        self.emb_dimension = emb_dimension\n",
    "        self.hidden_dimension = hidden_dimension\n",
    "        \n",
    "        # self.u_embeddings = nn.Linear(input_dimension, input_dimension)\n",
    "        self.u_embeddings = nn.Embedding(input_dimension, 3)\n",
    "        self.hidden_layer = nn.Linear(3, input_dimension)\n",
    "        self.output_layer = nn.Linear(input_dimension, output_dimension)\n",
    "        \n",
    "        initrange = 1.0 / self.emb_dimension\n",
    "        \n",
    "        init.uniform_(self.u_embeddings.weight.data, -initrange, initrange)\n",
    "        nn.init.xavier_uniform_(self.hidden_layer.weight.data)\n",
    "        nn.init.xavier_uniform_(self.output_layer.weight.data)\n",
    "        \n",
    "    def forward(self, x):\n",
    "        emb_center = self.u_embeddings(x)\n",
    "        # print(emb_center.shape)\n",
    "        emb_center = torch.mean(emb_center, dim = 1)\n",
    "        hidden = torch.relu(self.hidden_layer(emb_center))\n",
    "        output = self.output_layer(hidden)\n",
    "        \n",
    "        return torch.sigmoid(output)\n"
   ]
  },
  {
   "cell_type": "code",
   "execution_count": null,
   "metadata": {},
   "outputs": [],
   "source": [
    "class OpinionMeasurementModel(nn.Module):\n",
    "    def __init__(self, input_dimension, emb_dimension, hidden_dimension, output_dimension):\n",
    "        super(OpinionMeasurementModel, self).__init__()\n",
    "        \n",
    "        self.input_dimension = input_dimension\n",
    "        self.emb_dimension = emb_dimension\n",
    "        self.hidden_dimension = hidden_dimension\n",
    "        \n",
    "        self.u_embeddings = nn.Linear(input_dimension, input_dimension)\n",
    "        self.hidden_layer = nn.Linear(input_dimension, hidden_dimension)\n",
    "        self.output_layer = nn.Linear(hidden_dimension, output_dimension)\n",
    "        \n",
    "        initrange = 1.0 / self.emb_dimension\n",
    "        \n",
    "        init.uniform_(self.u_embeddings.weight.data, -initrange, initrange)\n",
    "        nn.init.xavier_uniform_(self.hidden_layer.weight.data)\n",
    "        nn.init.xavier_uniform_(self.output_layer.weight.data)\n",
    "        \n",
    "    def forward(self, x):\n",
    "        emb_center = self.u_embeddings(x)\n",
    "        # emb_center = torch.mean(emb_center, dim = 1)\n",
    "        hidden = torch.relu(self.hidden_layer(emb_center))\n",
    "        output = self.output_layer(hidden)\n",
    "        \n",
    "        return torch.sigmoid(output)\n",
    "\n",
    "device = torch.device('cpu')\n",
    "dataset = Dataset(matrix)\n",
    "\n",
    "batch_size = 1000\n",
    "data_loader = DataLoader(dataset, batch_size=batch_size, shuffle=True)\n",
    "\n",
    "accountNum = len(df.columns[1:])\n",
    "userNum = len(df['Unnamed: 0'])\n",
    "# model = OpinionMeasurementModel(accountNum, 128, 256, userNum)\n",
    "model = secondOption(accountNum, 128, 256, userNum)\n",
    "\n",
    "criterion = nn.BCELoss()\n",
    "optimizer = optim.Adam(model.parameters(), lr = 0.05)\n",
    "\n",
    "scheduler_step_size = 10\n",
    "scheduler_gamma = 0.1\n",
    "scheduler  = StepLR(optimizer, step_size=scheduler_step_size, gamma=scheduler_gamma)\n"
   ]
  },
  {
   "cell_type": "code",
   "execution_count": null,
   "metadata": {},
   "outputs": [],
   "source": [
    "num_epochs = 50\n",
    "for epoch in range(num_epochs):\n",
    "    total_loss = 0.0\n",
    "    \n",
    "    for account, followers in data_loader:\n",
    "\n",
    "        \n",
    "        optimizer.zero_grad()\n",
    "        account = account.int()\n",
    "        outputs = model(account)\n",
    "        # print(outputs.float(), followers.float())\n",
    "        loss = criterion(outputs, followers.float())\n",
    "        loss.backward()\n",
    "        optimizer.step()\n",
    "        \n",
    "        total_loss += loss.item()\n",
    "    scheduler.step()\n",
    "        \n",
    "    print(f'Epoch {epoch + 1}, Loss: {total_loss / len(data_loader)}')"
   ]
  },
  {
   "cell_type": "code",
   "execution_count": 1,
   "metadata": {},
   "outputs": [
    {
     "ename": "NameError",
     "evalue": "name 'torch' is not defined",
     "output_type": "error",
     "traceback": [
      "\u001b[1;31m---------------------------------------------------------------------------\u001b[0m",
      "\u001b[1;31mNameError\u001b[0m                                 Traceback (most recent call last)",
      "Cell \u001b[1;32mIn[1], line 2\u001b[0m\n\u001b[0;32m      1\u001b[0m model_path \u001b[38;5;241m=\u001b[39m \u001b[38;5;124m'\u001b[39m\u001b[38;5;124mwang_model_model.pth\u001b[39m\u001b[38;5;124m'\u001b[39m\n\u001b[1;32m----> 2\u001b[0m \u001b[43mtorch\u001b[49m\u001b[38;5;241m.\u001b[39msave(model\u001b[38;5;241m.\u001b[39mstate_dict(), model_path)\n",
      "\u001b[1;31mNameError\u001b[0m: name 'torch' is not defined"
     ]
    }
   ],
   "source": [
    "model_path = 'wang_model_model.pth'\n",
    "torch.save(model.state_dict(), model_path)\n",
    "\n"
   ]
  },
  {
   "cell_type": "code",
   "execution_count": null,
   "metadata": {},
   "outputs": [],
   "source": [
    "model.load_state_dict(torch.load(model_path))"
   ]
  },
  {
   "cell_type": "code",
   "execution_count": null,
   "metadata": {},
   "outputs": [],
   "source": [
    "from sklearn.preprocessing import StandardScaler\n",
    "\n",
    "def extract_embeddings(model):\n",
    "    embeddings = model.hidden_layer.weight.data.numpy()\n",
    "    # embeddings = model.u_embeddings.weight.data.numpy()\n",
    "\n",
    "    return embeddings\n",
    "\n",
    "def pca(embeddings):\n",
    "    pca = PCA(n_components=2)\n",
    "                                                           \n",
    "    embeddings_2d = pca.fit_transform(embeddings)\n",
    "    plt.scatter(embeddings_2d[:, 0], embeddings_2d[:, 1])\n",
    "    plt.title('Embeddings Visualization using PCA')\n",
    "    plt.xlabel('PC1')\n",
    "    plt.ylabel('PC2')\n",
    "    plt.show()\n",
    "\n",
    "embeddings = extract_embeddings(model)\n",
    "pca(embeddings)\n",
    "    "
   ]
  },
  {
   "cell_type": "code",
   "execution_count": null,
   "metadata": {},
   "outputs": [],
   "source": [
    "from sklearn.decomposition import PCA\n",
    "from sklearn.preprocessing import MinMaxScaler\n",
    "\n",
    "def extract_embeddings(model):\n",
    "    embeddings = model.u_embeddings.weight.data.numpy()\n",
    "    return embeddings\n",
    "\n",
    "def pca(embeddings):\n",
    "    pca = PCA(n_components=2)\n",
    "    embeddings_2d = pca.fit_transform(embeddings)\n",
    "    \n",
    "    # Scale the dimensions between 0 and 1\n",
    "    scaler = MinMaxScaler()\n",
    "    embeddings_2d_scaled = scaler.fit_transform(embeddings_2d)\n",
    "    \n",
    "    plt.scatter(embeddings_2d_scaled[:, 0], embeddings_2d_scaled[:, 1])\n",
    "    plt.title('Embeddings Visualization using PCA (Scaled)')\n",
    "    plt.xlabel('PC1 (Scaled)')\n",
    "    plt.ylabel('PC2 (Scaled)')\n",
    "    plt.show()\n",
    "\n",
    "embeddings = extract_embeddings(model)\n",
    "pca(embeddings)\n"
   ]
  },
  {
   "cell_type": "code",
   "execution_count": null,
   "metadata": {},
   "outputs": [],
   "source": [
    "from sklearn.manifold import MDS\n",
    "\n",
    "def mds(embeddings):\n",
    "    mds = MDS(n_components=2, dissimilarity= 'euclidean')\n",
    "    embeddings_2d = mds.fit_transform(embeddings)\n",
    "    plt.scatter(embeddings_2d[:, 0], embeddings_2d[:, 1])\n",
    "    plt.title('Embeddings Visualization using MDS')\n",
    "    plt.xlabel('Dimension 1')\n",
    "    plt.ylabel('Dimension 2')\n",
    "    plt.show()\n",
    "\n",
    "embeddings = extract_embeddings(model)\n",
    "mds(embeddings)\n"
   ]
  },
  {
   "cell_type": "code",
   "execution_count": null,
   "metadata": {},
   "outputs": [],
   "source": [
    "print(len(embeddings))"
   ]
  },
  {
   "cell_type": "code",
   "execution_count": null,
   "metadata": {},
   "outputs": [],
   "source": [
    "\n",
    "def tsne(embeddings):\n",
    "    embeddings = StandardScaler().fit_transform(embeddings)\n",
    "    tsne = TSNE(n_components=2)\n",
    "    embeddings_2d = tsne.fit_transform(embeddings)\n",
    "    plt.scatter(embeddings_2d[:, 0], embeddings_2d[:, 1])\n",
    "    plt.title('Embeddings Visualization using t-SNE')\n",
    "    plt.xlabel('Dimension 1')\n",
    "    plt.ylabel('Dimension 2')\n",
    "    plt.show()\n",
    "\n",
    "embeddings = extract_embeddings(model)\n",
    "tsne(embeddings)\n"
   ]
  }
 ],
 "metadata": {
  "kernelspec": {
   "display_name": "Python 3",
   "language": "python",
   "name": "python3"
  },
  "language_info": {
   "codemirror_mode": {
    "name": "ipython",
    "version": 3
   },
   "file_extension": ".py",
   "mimetype": "text/x-python",
   "name": "python",
   "nbconvert_exporter": "python",
   "pygments_lexer": "ipython3",
   "version": "undefined.undefined.undefined"
  }
 },
 "nbformat": 4,
 "nbformat_minor": 2
}
