{
 "cells": [
  {
   "cell_type": "code",
   "execution_count": null,
   "metadata": {},
   "outputs": [],
   "source": [
    "class embeddingModel(nn.Module):\n",
    "    def __init__(self, input_dimension, emb_dimension, hidden_dimension, output_dimenion):\n",
    "        super(embeddingModel, self).__init__()\n",
    "        \n",
    "        self.input_dimension = input_dimension\n",
    "        self.emb_dimension = emb_dimension\n",
    "        self.hidden_dimension = hidden_dimension\n",
    "        self.output_dimension = output_dimenion\n",
    "        \n",
    "        self.emb = nn.Embedding(input_dimension, emb_dimension)\n",
    "        self.lstm = nn.LSTM(emb_dimension, hidden_dimension)\n",
    "        self.fc = nn.Linear(hidden_dimension, output_dimension)"
   ]
  }
 ],
 "metadata": {
  "language_info": {
   "name": "python"
  }
 },
 "nbformat": 4,
 "nbformat_minor": 2
}
